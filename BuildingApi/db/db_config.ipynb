{
 "cells": [
  {
   "cell_type": "markdown",
   "metadata": {},
   "source": [
    "### **Database Generation**"
   ]
  },
  {
   "cell_type": "code",
   "execution_count": null,
   "metadata": {},
   "outputs": [],
   "source": [
    "# Imports\n",
    "import sqlite3"
   ]
  },
  {
   "cell_type": "code",
   "execution_count": null,
   "metadata": {},
   "outputs": [],
   "source": [
    "# Instantiates the connection and the cursor to the database.\n",
    "connection = sqlite3.connect(\"mecenact.db\")\n",
    "cursor = connection.cursor()"
   ]
  },
  {
   "cell_type": "code",
   "execution_count": null,
   "metadata": {},
   "outputs": [],
   "source": [
    "# Creates the table to store the users' information.\n",
    "cursor.execute(\"\"\"\n",
    "            CREATE TABLE users (\n",
    "            username TEXT,\n",
    "            password TEXT NOT NULL,\n",
    "            post_count INTEGER NOT NULL,\n",
    "            PRIMARY KEY (username) )\n",
    "            \"\"\")"
   ]
  },
  {
   "cell_type": "code",
   "execution_count": null,
   "metadata": {},
   "outputs": [],
   "source": [
    "# Creates the table to store the posts' information.\n",
    "cursor.execute(\"\"\"\n",
    "            CREATE TABLE posts (\n",
    "            author TEXT,\n",
    "            id INTEGER,\n",
    "            title TEXT NOT NULL,\n",
    "            body TEXT,\n",
    "            PRIMARY KEY (id, author),\n",
    "            FOREIGN KEY (author) \n",
    "               REFERENCES users (username)\n",
    "               ON DELETE CASCADE )\n",
    "            \"\"\")"
   ]
  },
  {
   "cell_type": "code",
   "execution_count": null,
   "metadata": {},
   "outputs": [],
   "source": [
    "# Creates the table to store the comments' information.\n",
    "cursor.execute(\"\"\"\n",
    "            CREATE TABLE tags (\n",
    "            tag TEXT,\n",
    "            author TEXT,\n",
    "            post_id INTEGER,\n",
    "            PRIMARY KEY (tag, author, post_id),\n",
    "            FOREIGN KEY (author, post_id) \n",
    "               REFERENCES posts (author, id) \n",
    "               ON DELETE CASCADE )\n",
    "            \"\"\")"
   ]
  },
  {
   "cell_type": "code",
   "execution_count": null,
   "metadata": {},
   "outputs": [],
   "source": [
    "# Creates the table to store the images' information.\n",
    "cursor.execute(\"\"\"\n",
    "            CREATE TABLE images (\n",
    "            image BLOB NOT NULL,\n",
    "            author TEXT,\n",
    "            post_id INTEGER,\n",
    "            PRIMARY KEY (author, post_id),\n",
    "            FOREIGN KEY (author, post_id) \n",
    "               REFERENCES posts (author, id) \n",
    "               ON DELETE CASCADE )\n",
    "            \"\"\")"
   ]
  },
  {
   "cell_type": "code",
   "execution_count": null,
   "metadata": {},
   "outputs": [],
   "source": [
    "# Commit any changes and close the connection.\n",
    "connection.commit()\n",
    "connection.close()"
   ]
  },
  {
   "cell_type": "markdown",
   "metadata": {},
   "source": [
    "### **Dummy Entries Generation**"
   ]
  },
  {
   "cell_type": "code",
   "execution_count": null,
   "metadata": {},
   "outputs": [],
   "source": [
    "# Imports for random generation and model declaration.\n",
    "# Generating random post titles.\n",
    "from wonderwords import RandomSentence\n",
    "sentence_model = RandomSentence()\n",
    "\n",
    "# Generating random post bodies.\n",
    "from transformers import pipeline\n",
    "paragraph_model = pipeline('text-generation', model = 'gpt2')\n",
    "\n",
    "# Generating random images.\n",
    "import requests\n",
    "\n",
    "# Generating random usernames.\n",
    "import names\n",
    "\n",
    "# Generating random passwords.\n",
    "import random\n",
    "import string\n",
    "\n",
    "# Generating random tags.\n",
    "from wonderwords import RandomWord\n",
    "word_model = RandomWord()"
   ]
  },
  {
   "cell_type": "code",
   "execution_count": null,
   "metadata": {},
   "outputs": [],
   "source": [
    "# Imports for database manipulation.\n",
    "import db_api as db\n",
    "db.db_path = 'mecenact.db'"
   ]
  },
  {
   "cell_type": "code",
   "execution_count": null,
   "metadata": {},
   "outputs": [],
   "source": [
    "# Random user generation.\n",
    "def random_user():\n",
    "    username = names.get_full_name()\n",
    "    password = ''.join(random.choice(string.ascii_letters + string.digits) for i in range(random.randint(1, 16)))\n",
    "    return username, password\n",
    "\n",
    "# Random post generation and output formatting.\n",
    "def random_post():\n",
    "    sentence = sentence_model.sentence()\n",
    "    paragraph = paragraph_model(sentence, do_sample = True, top_k = 50, temperature = 0.9, max_length = 100)[0]['generated_text']\n",
    "    paragraph = paragraph.split('.')\n",
    "    paragraph.pop(0)\n",
    "    paragraph.pop()\n",
    "    paragraph = '.'.join(paragraph) + '.'\n",
    "    return sentence, paragraph\n",
    "\n",
    "# Random image generation.\n",
    "def random_image():\n",
    "    response = requests.get('https://source.unsplash.com/random/?art')\n",
    "    return response.content\n",
    "\n",
    "# Random tag generation.\n",
    "def random_tag():\n",
    "    return word_model.word()"
   ]
  },
  {
   "cell_type": "code",
   "execution_count": null,
   "metadata": {},
   "outputs": [],
   "source": [
    "# Parameters.\n",
    "num_of_users = 3\n",
    "num_of_posts = 5\n",
    "num_of_tags = 10\n",
    "\n",
    "# Generates random users and stores them in the database.\n",
    "users = []\n",
    "i = 0\n",
    "while i < num_of_users:\n",
    "    username, password = random_user()\n",
    "    if username not in users:\n",
    "        users.append(username)\n",
    "        db.create_user(username, password)\n",
    "        i = i + 1\n",
    "\n",
    "# Generates random posts and stores them in the database.\n",
    "posts = []\n",
    "for i in range(num_of_posts):\n",
    "    author = random.choice(users)\n",
    "    title, body = random_post()\n",
    "    posts.append(db.create_post(author, title, body))\n",
    "\n",
    "# Generates random images and assigns them to each post.\n",
    "for post in posts:\n",
    "    image = random_image()\n",
    "    db.assign_image(image, post[0], post[1])\n",
    "\n",
    "# Generates random tags.\n",
    "tags = []\n",
    "i = 0\n",
    "while i < num_of_tags:\n",
    "    tag = random_tag()\n",
    "    if tag not in tags: \n",
    "        tags.append(tag)\n",
    "        i = i + 1\n",
    "\n",
    "# Assigns random tags to each post.\n",
    "for post in posts:\n",
    "    post_tags = random.sample(tags, random.randint(1, 5))\n",
    "    db.assign_tags(post_tags, post[0], post[1])"
   ]
  },
  {
   "cell_type": "code",
   "execution_count": null,
   "metadata": {},
   "outputs": [],
   "source": [
    "# Cleaning the database.\n",
    "users = db.all_users()\n",
    "for user in users:\n",
    "    db.remove_user(user[0])"
   ]
  },
  {
   "cell_type": "code",
   "execution_count": null,
   "metadata": {},
   "outputs": [],
   "source": [
    "# Validating.\n",
    "print(db.all_users())\n",
    "print(db.all_posts())\n",
    "print(db.all_tags())\n",
    "print(db.all_images())"
   ]
  }
 ],
 "metadata": {
  "kernelspec": {
   "display_name": "Python 3",
   "language": "python",
   "name": "python3"
  },
  "language_info": {
   "codemirror_mode": {
    "name": "ipython",
    "version": 3
   },
   "file_extension": ".py",
   "mimetype": "text/x-python",
   "name": "python",
   "nbconvert_exporter": "python",
   "pygments_lexer": "ipython3",
   "version": "3.11.2"
  },
  "orig_nbformat": 4
 },
 "nbformat": 4,
 "nbformat_minor": 2
}
