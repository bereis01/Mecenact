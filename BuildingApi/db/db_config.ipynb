{
 "cells": [
  {
   "cell_type": "code",
   "execution_count": 1,
   "metadata": {},
   "outputs": [],
   "source": [
    "# Imports\n",
    "import sqlite3"
   ]
  },
  {
   "cell_type": "code",
   "execution_count": null,
   "metadata": {},
   "outputs": [],
   "source": [
    "# Instantiates the connection and the cursor to the database.\n",
    "connection = sqlite3.connect(\"mecenact.db\")\n",
    "cursor = connection.cursor()"
   ]
  },
  {
   "cell_type": "code",
   "execution_count": null,
   "metadata": {},
   "outputs": [],
   "source": [
    "# Creates the table to store the users' information.\n",
    "cursor.execute(\"\"\"\n",
    "            CREATE TABLE users (\n",
    "            username TEXT,\n",
    "            password TEXT NOT NULL,\n",
    "            post_count INTEGER NOT NULL,\n",
    "            PRIMARY KEY (username) )\n",
    "            \"\"\")"
   ]
  },
  {
   "cell_type": "code",
   "execution_count": null,
   "metadata": {},
   "outputs": [],
   "source": [
    "# Creates the table to store the posts' information.\n",
    "cursor.execute(\"\"\"\n",
    "            CREATE TABLE posts (\n",
    "            author TEXT,\n",
    "            id INTEGER,\n",
    "            title TEXT NOT NULL,\n",
    "            image BLOB NOT NULL,\n",
    "            body TEXT,\n",
    "            PRIMARY KEY (id, author),\n",
    "            FOREIGN KEY (author) \n",
    "               REFERENCES users (username)\n",
    "               ON DELETE CASCADE )\n",
    "            \"\"\")"
   ]
  },
  {
   "cell_type": "code",
   "execution_count": null,
   "metadata": {},
   "outputs": [],
   "source": [
    "# Creates the table to store the comments' information.\n",
    "cursor.execute(\"\"\"\n",
    "            CREATE TABLE tags (\n",
    "            tag TEXT,\n",
    "            author TEXT,\n",
    "            post_id INTEGER,\n",
    "            PRIMARY KEY (tag, author, post_id),\n",
    "            FOREIGN KEY (author, post_id) \n",
    "               REFERENCES posts (author, id) \n",
    "               ON DELETE CASCADE )\n",
    "            \"\"\")"
   ]
  },
  {
   "cell_type": "code",
   "execution_count": null,
   "metadata": {},
   "outputs": [],
   "source": [
    "# Commit any changes and close the connection.\n",
    "connection.commit()\n",
    "connection.close()"
   ]
  },
  {
   "cell_type": "code",
   "execution_count": 2,
   "metadata": {},
   "outputs": [],
   "source": [
    "# Imports for random generation and model declaration.\n",
    "# Generating random post titles.\n",
    "from wonderwords import RandomSentence\n",
    "sentence_model = RandomSentence()\n",
    "\n",
    "# Generating random post bodies.\n",
    "from transformers import pipeline\n",
    "paragraph_model = pipeline('text-generation', model = 'gpt2')\n",
    "\n",
    "# Generating random images.\n",
    "import requests\n",
    "\n",
    "# Generating random usernames.\n",
    "import names\n",
    "\n",
    "# Generating random passwords.\n",
    "import random\n",
    "import string\n",
    "\n",
    "# Generating random tags.\n",
    "from wonderwords import RandomWord\n",
    "word_model = RandomWord()"
   ]
  },
  {
   "cell_type": "code",
   "execution_count": 3,
   "metadata": {},
   "outputs": [],
   "source": [
    "# Imports for database manipulation.\n",
    "import db_api as db\n",
    "db.db_path = 'mecenact.db'"
   ]
  },
  {
   "cell_type": "code",
   "execution_count": 12,
   "metadata": {},
   "outputs": [],
   "source": [
    "# Random user generation.\n",
    "def random_user():\n",
    "    username = names.get_full_name()\n",
    "    password = ''.join(random.choice(string.ascii_letters + string.digits + string.punctuation) for i in range(random.randint(1, 16)))\n",
    "    return username, password\n",
    "\n",
    "# Random post generation and output formatting.\n",
    "def random_post():\n",
    "    sentence = sentence_model.sentence()\n",
    "\n",
    "    paragraph = paragraph_model(sentence, do_sample = True, top_k = 50, temperature = 0.9, max_length = 100)[0]['generated_text']\n",
    "    paragraph = paragraph.split('.')\n",
    "    paragraph.pop(0)\n",
    "    paragraph.pop()\n",
    "    paragraph = '.'.join(paragraph) + '.'\n",
    "\n",
    "    response = requests.get('https://source.unsplash.com/random/?art')\n",
    "    image = response.url\n",
    "\n",
    "    return sentence, image, paragraph\n",
    "\n",
    "# Random tag generation.\n",
    "def random_tag():\n",
    "    return word_model.word()"
   ]
  },
  {
   "cell_type": "code",
   "execution_count": 17,
   "metadata": {},
   "outputs": [
    {
     "name": "stderr",
     "output_type": "stream",
     "text": [
      "Setting `pad_token_id` to `eos_token_id`:50256 for open-end generation.\n",
      "Setting `pad_token_id` to `eos_token_id`:50256 for open-end generation.\n",
      "Setting `pad_token_id` to `eos_token_id`:50256 for open-end generation.\n",
      "Setting `pad_token_id` to `eos_token_id`:50256 for open-end generation.\n",
      "Setting `pad_token_id` to `eos_token_id`:50256 for open-end generation.\n"
     ]
    }
   ],
   "source": [
    "# Parameters.\n",
    "num_of_users = 3\n",
    "num_of_posts = 5\n",
    "num_of_tags = 10\n",
    "\n",
    "# Generates random users and stores them in the database.\n",
    "users = []\n",
    "i = 0\n",
    "while i < num_of_users:\n",
    "    username, password = random_user()\n",
    "    if username not in users:\n",
    "        users.append(username)\n",
    "        db.create_user(username, password)\n",
    "        i = i + 1\n",
    "\n",
    "# Generates random posts and stores them in the database.\n",
    "posts = []\n",
    "for i in range(num_of_posts):\n",
    "    author = random.choice(users)\n",
    "    title, image, body = random_post()\n",
    "    posts.append(db.create_post(author, title, image, body))\n",
    "\n",
    "# Generates random tags.\n",
    "tags = []\n",
    "i = 0\n",
    "while i < num_of_tags:\n",
    "    tag = random_tag()\n",
    "    if tag not in tags: \n",
    "        tags.append(tag)\n",
    "        i = i + 1\n",
    "\n",
    "# Assigns random tags to each post.\n",
    "for post in posts:\n",
    "    post_tags = random.sample(tags, random.randint(1, 5))\n",
    "    db.assign_tags(post_tags, post[0], post[1])"
   ]
  },
  {
   "cell_type": "code",
   "execution_count": 15,
   "metadata": {},
   "outputs": [],
   "source": [
    "# Cleaning the whole database.\n",
    "users = db.all_users()\n",
    "for user in users:\n",
    "    db.remove_user(user[0])"
   ]
  },
  {
   "cell_type": "code",
   "execution_count": 23,
   "metadata": {},
   "outputs": [
    {
     "name": "stdout",
     "output_type": "stream",
     "text": [
      "[('Patricia Perrien', 0, 'The comfortable detail pumps vodka.', 'https://images.unsplash.com/photo-1438012940875-4bf705025a8a?crop=entropy&cs=tinysrgb&fit=max&fm=jpg&ixid=MnwxfDB8MXxyYW5kb218MHx8YXJ0fHx8fHx8MTY5NjA4MDk3OA&ixlib=rb-4.0.3&q=80&utm_campaign=api-credit&utm_medium=referral&utm_source=unsplash_source&w=1080', \"\\n\\nThe water and water bath is a two-part and optional setup that is highly recommended to allow the vodka to cool down quickly. I've always liked the fact that the vodka is fairly clean in the water bath, and I love how the water is in the bath without any drying.\\n\\nI like to leave the water bath very cold for about half the time the vodka is drunk, so the water bath does not get too cold.\"), ('Patricia Perrien', 1, 'The square hive rocks pumpkin.', 'https://images.unsplash.com/flagged/photo-1572392640988-ba48d1a74457?crop=entropy&cs=tinysrgb&fit=max&fm=jpg&ixid=MnwxfDB8MXxyYW5kb218MHx8YXJ0fHx8fHx8MTY5NjA4MDk4Mg&ixlib=rb-4.0.3&q=80&utm_campaign=api-credit&utm_medium=referral&utm_source=unsplash_source&w=1080', ' \"The top of the pumpkin has a hint of water. It almost looks like ice cream.\" This is \"A-ha!\" I\\'m sorry about the sound. \"Don\\'t even think about it.\" We\\'re running out of time. My dad is a college-bound psychologist, so I\\'m not sure whether to believe him or not. \"Okay.\" I\\'m taking a walk along the sidewalk. \"My mom has really good health.'), ('Patricia Perrien', 2, 'The blue-eyed confidentiality knows whirlwind.', 'https://images.unsplash.com/photo-1517776832751-0a7e6993de03?crop=entropy&cs=tinysrgb&fit=max&fm=jpg&ixid=MnwxfDB8MXxyYW5kb218MHx8YXJ0fHx8fHx8MTY5NjA4MDk4Nw&ixlib=rb-4.0.3&q=80&utm_campaign=api-credit&utm_medium=referral&utm_source=unsplash_source&w=1080', \" The white-faced confidentiality knows all-nighters. The red-eyed secrecy knows all-weddings.\\n\\nWith each new episode of Family Guy the show's producers go through their most critical scenes, and often, most of them are, with barely any sense of humor.\\n\\nSo here's a little guide:\\n\\n1.\"), ('Patricia Perrien', 3, 'The coherent collard opens eurocentrism.', 'https://images.unsplash.com/photo-1559102877-4a2cc0e37fce?crop=entropy&cs=tinysrgb&fit=max&fm=jpg&ixid=MnwxfDB8MXxyYW5kb218MHx8YXJ0fHx8fHx8MTY5NjA4MDk5Mg&ixlib=rb-4.0.3&q=80&utm_campaign=api-credit&utm_medium=referral&utm_source=unsplash_source&w=1080', ' It seeks to promote the integration of people from all political camps, from the Left and the Right. The idea is to bring about a common life under the existing social and political institutions, which include the state and the hierarchy of government. The idea is that each of us should have a place to dwell. This is what the collard wants to do.')]\n"
     ]
    }
   ],
   "source": [
    "# Validating.\n",
    "print(db.all_users())\n",
    "print(db.all_posts())\n",
    "print(db.all_tags())"
   ]
  }
 ],
 "metadata": {
  "kernelspec": {
   "display_name": "Python 3",
   "language": "python",
   "name": "python3"
  },
  "language_info": {
   "codemirror_mode": {
    "name": "ipython",
    "version": 3
   },
   "file_extension": ".py",
   "mimetype": "text/x-python",
   "name": "python",
   "nbconvert_exporter": "python",
   "pygments_lexer": "ipython3",
   "version": "3.11.2"
  },
  "orig_nbformat": 4
 },
 "nbformat": 4,
 "nbformat_minor": 2
}
