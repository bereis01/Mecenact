{
 "cells": [
  {
   "cell_type": "code",
   "execution_count": 13,
   "metadata": {},
   "outputs": [],
   "source": [
    "# Imports\n",
    "import sqlite3"
   ]
  },
  {
   "cell_type": "code",
   "execution_count": 14,
   "metadata": {},
   "outputs": [],
   "source": [
    "# Instantiates the connection and the cursor to the database.\n",
    "connection = sqlite3.connect(\"mecenact.db\")\n",
    "cursor = connection.cursor()"
   ]
  },
  {
   "cell_type": "code",
   "execution_count": 15,
   "metadata": {},
   "outputs": [
    {
     "data": {
      "text/plain": [
       "<sqlite3.Cursor at 0x7f243f952ac0>"
      ]
     },
     "execution_count": 15,
     "metadata": {},
     "output_type": "execute_result"
    }
   ],
   "source": [
    "# Creates the table to store the users' information.\n",
    "cursor.execute(\"\"\"\n",
    "            CREATE TABLE users (\n",
    "            username TEXT,\n",
    "            password TEXT NOT NULL,\n",
    "            post_count INTEGER NOT NULL,\n",
    "            PRIMARY KEY (username) )\n",
    "            \"\"\")"
   ]
  },
  {
   "cell_type": "code",
   "execution_count": 16,
   "metadata": {},
   "outputs": [
    {
     "data": {
      "text/plain": [
       "<sqlite3.Cursor at 0x7f243f952ac0>"
      ]
     },
     "execution_count": 16,
     "metadata": {},
     "output_type": "execute_result"
    }
   ],
   "source": [
    "# Creates the table to store the posts' information.\n",
    "cursor.execute(\"\"\"\n",
    "            CREATE TABLE posts (\n",
    "            author TEXT,\n",
    "            id INTEGER,\n",
    "            title TEXT NOT NULL,\n",
    "            image BLOB NOT NULL,\n",
    "            body TEXT,\n",
    "            PRIMARY KEY (id, author),\n",
    "            FOREIGN KEY (author) \n",
    "               REFERENCES users (username)\n",
    "               ON DELETE CASCADE )\n",
    "            \"\"\")"
   ]
  },
  {
   "cell_type": "code",
   "execution_count": 17,
   "metadata": {},
   "outputs": [
    {
     "data": {
      "text/plain": [
       "<sqlite3.Cursor at 0x7f243f952ac0>"
      ]
     },
     "execution_count": 17,
     "metadata": {},
     "output_type": "execute_result"
    }
   ],
   "source": [
    "# Creates the table to store the comments' information.\n",
    "cursor.execute(\"\"\"\n",
    "            CREATE TABLE tags (\n",
    "            tag TEXT,\n",
    "            author TEXT,\n",
    "            post_id INTEGER,\n",
    "            PRIMARY KEY (tag, author, post_id),\n",
    "            FOREIGN KEY (author, post_id) \n",
    "               REFERENCES posts (author, id) \n",
    "               ON DELETE CASCADE )\n",
    "            \"\"\")"
   ]
  },
  {
   "cell_type": "code",
   "execution_count": 18,
   "metadata": {},
   "outputs": [],
   "source": [
    "# Commit any changes and close the connection.\n",
    "connection.commit()\n",
    "connection.close()"
   ]
  }
 ],
 "metadata": {
  "kernelspec": {
   "display_name": "Python 3",
   "language": "python",
   "name": "python3"
  },
  "language_info": {
   "codemirror_mode": {
    "name": "ipython",
    "version": 3
   },
   "file_extension": ".py",
   "mimetype": "text/x-python",
   "name": "python",
   "nbconvert_exporter": "python",
   "pygments_lexer": "ipython3",
   "version": "3.11.2"
  },
  "orig_nbformat": 4
 },
 "nbformat": 4,
 "nbformat_minor": 2
}
